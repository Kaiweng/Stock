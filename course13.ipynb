{
 "cells": [
  {
   "cell_type": "code",
   "execution_count": 1,
   "metadata": {},
   "outputs": [],
   "source": [
    "from finlab.data import Data\n",
    "\n",
    "# 可以從 data 中讀取資料\n",
    "data = Data()"
   ]
  },
  {
   "cell_type": "code",
   "execution_count": 4,
   "metadata": {},
   "outputs": [
    {
     "name": "stdout",
     "output_type": "stream",
     "text": [
      "Data: **ERROR: cannot find 股價 in database\n"
     ]
    }
   ],
   "source": [
    "# 從 close, high, low 取從最新的一筆資料往前算，2000筆資料\n",
    "close = data.get('收盤價', 2000)\n",
    "high = data.get('最高價', 2000)\n",
    "low = data.get('最低價', 2000)"
   ]
  },
  {
   "cell_type": "code",
   "execution_count": 2,
   "metadata": {},
   "outputs": [],
   "source": [
    "import talib\n",
    "import pandas as pd"
   ]
  },
  {
   "cell_type": "code",
   "execution_count": 3,
   "metadata": {},
   "outputs": [
    {
     "data": {
      "text/plain": [
       "<matplotlib.axes._subplots.AxesSubplot at 0x1473f048>"
      ]
     },
     "execution_count": 3,
     "metadata": {},
     "output_type": "execute_result"
    },
    {
     "data": {
      "image/png": "[encoded data removed]",
      "text/plain": [
       "<matplotlib.figure.Figure at 0x14ae2ef0>"
      ]
     },
     "metadata": {
      "needs_background": "light"
     },
     "output_type": "display_data"
    }
   ],
   "source": [
    "import talib\n",
    "import pandas as pd\n",
    "\n",
    "# 利用 talib 來計算 0050 這檔股票的指標\n",
    "kd = talib.STOCH(high['0050'].ffill().values, \n",
    "                 low['0050'].ffill().values, \n",
    "                 close['0050'].ffill().values,\n",
    "                 fastk_period=9, slowk_period=3\n",
    "                 , slowd_period=3, slowk_matype=1, slowd_matype=1)\n",
    "\n",
    "# 將 kd 值 分別轉換成 k、d 兩條 series\n",
    "k = pd.Series(kd[0], index=close['0050'].index)\n",
    "d = pd.Series(kd[1], index=close['0050'].index)\n",
    "\n",
    "# & 代表 「且」 的意思，這邊的條件就是\n",
    "# k.shift(1) 可以想成「昨天」的意思，同理 k.shift(2) 就是前天\n",
    "# 當（今天的 k > d ）且 （昨天的 k < d） 且 （今天的 k < 30） 時，買入\n",
    "\n",
    "buy = (k > d) & (k.shift(1) < d.shift(1)) & (k < 30)\n",
    "\n",
    "# 起始資金為 30 萬，這段可以參考「老師的話」當中的範例\n",
    "arr = [30]\n",
    "for v, p in zip(buy[1:], close['0050'].shift(-2)/close['0050'].shift(-1)):\n",
    "    arr.append(arr[-1]*p + v)\n",
    "\n",
    "# 畫圖\n",
    "%matplotlib inline\n",
    "\n",
    "# 先畫出 0050 收盤價\n",
    "close['0050'].plot(secondary_y=True, color='gray')\n",
    "\n",
    "# 畫出投資獲利\n",
    "pd.Series(arr, index=close['0050'].index).plot()\n",
    "\n",
    "# 畫出買入的時間點\n",
    "buy.astype(int).plot()\n",
    "\n",
    "# 畫出一樣的金額假如放在銀行，的資產變化\n",
    "(buy.astype(int).cumsum() + 30).plot()"
   ]
  },
  {
   "cell_type": "code",
   "execution_count": 5,
   "metadata": {},
   "outputs": [],
   "source": [
    "import sqlite3\n",
    "import pandas as pd\n",
    "import os\n",
    "import datetime\n"
   ]
  },
  {
   "cell_type": "code",
   "execution_count": 43,
   "metadata": {},
   "outputs": [],
   "source": [
    "conn = sqlite3.connect(os.path.join('data', \"data.db\"))\n",
    "cursor = conn.execute('SELECT name FROM sqlite_master WHERE type = \"table\"')"
   ]
  },
  {
   "cell_type": "code",
   "execution_count": 44,
   "metadata": {},
   "outputs": [
    {
     "name": "stdout",
     "output_type": "stream",
     "text": [
      "balance_sheet\n",
      "cash_flows\n",
      "income_sheet\n",
      "income_sheet_cumulate\n",
      "monthly_revenue\n",
      "price\n"
     ]
    }
   ],
   "source": [
    "for t in list(cursor):\n",
    "    print(t[0])"
   ]
  },
  {
   "cell_type": "code",
   "execution_count": null,
   "metadata": {},
   "outputs": [],
   "source": [
    "    def __init__(self):\n",
    "\n",
    "        # 開啟資料庫\n",
    "        self.conn = sqlite3.connect(os.path.join('data', \"data.db\"))\n",
    "        cursor = self.conn.execute('SELECT name FROM sqlite_master WHERE type = \"table\"')\n",
    "\n",
    "        # 找到所有的table名稱\n",
    "        table_names = [t[0] for t in list(cursor)]\n",
    "\n",
    "        # 找到所有的column名稱，對應到的table名稱\n",
    "        self.col2table = {}\n",
    "        for tname in table_names:\n",
    "\n",
    "            # 獲取所有column名稱\n",
    "            c = self.conn.execute('PRAGMA table_info(' + tname + ');')\n",
    "            for cname in [i[1] for i in list(c)]:\n",
    "\n",
    "                # 將column名稱對應到的table名稱assign到self.col2table中\n",
    "                self.col2table[cname] = tname\n",
    "        \n",
    "        # 初始self.date（使用data.get時，可以或的self.date以前的所有資料（以防拿到未來數據）\n",
    "        self.date = datetime.datetime.now().date()\n",
    "        \n",
    "        # 假如self.cache是true的話，\n",
    "        # 使用data.get的資料，會被儲存在self.data中，之後再呼叫data.get時，就不需要從資料庫裡面找，\n",
    "        # 直接調用self.data中的資料即可\n",
    "        self.cache = False\n",
    "        self.data = {}\n",
    "        \n",
    "        # 先將每個table的所有日期都拿出來\n",
    "        self.dates = {}\n",
    "\n",
    "        # 對於每個table，都將所有資料的日期取出\n",
    "        for tname in table_names:\n",
    "            c = self.conn.execute('PRAGMA table_info(' + tname + ');')\n",
    "            cnames = [i[1] for i in list(c)]\n",
    "            if 'date' in cnames:\n",
    "                if tname == 'price':\n",
    "                    # 假如table是股價的話，則觀察這三檔股票的日期即可（不用所有股票日期都觀察，節省速度）\n",
    "                    s1 = (\"\"\"SELECT DISTINCT date FROM %s where stock_id='0050'\"\"\"%('price'))\n",
    "                    s2 = (\"\"\"SELECT DISTINCT date FROM %s where stock_id='1101'\"\"\"%('price'))\n",
    "                    s3 = (\"\"\"SELECT DISTINCT date FROM %s where stock_id='2330'\"\"\"%('price'))\n",
    "\n",
    "                    # 將日期抓出來並排序整理，放到self.dates中\n",
    "                    df = (pd.read_sql(s1, self.conn)\n",
    "                          .append(pd.read_sql(s2, self.conn))\n",
    "                          .append(pd.read_sql(s3, self.conn))\n",
    "                          .drop_duplicates('date').sort_values('date'))\n",
    "                    df['date'] = pd.to_datetime(df['date'])\n",
    "                    df = df.set_index('date')\n",
    "                    self.dates[tname] = df\n",
    "                else:\n",
    "                    # 將日期抓出來並排序整理，放到self.dates中\n",
    "                    s = (\"\"\"SELECT DISTINCT date FROM '%s'\"\"\"%(tname))\n",
    "                    self.dates[tname] = pd.read_sql(s, self.conn, parse_dates=['date'], index_col=['date']).sort_index()\n",
    "        #print('Data: done')"
   ]
  }
 ],
 "metadata": {
  "kernelspec": {
   "display_name": "Python 3",
   "language": "python",
   "name": "python3"
  },
  "language_info": {
   "codemirror_mode": {
    "name": "ipython",
    "version": 3
   },
   "file_extension": ".py",
   "mimetype": "text/x-python",
   "name": "python",
   "nbconvert_exporter": "python",
   "pygments_lexer": "ipython3",
   "version": "3.6.4"
  }
 },
 "nbformat": 4,
 "nbformat_minor": 2
}
